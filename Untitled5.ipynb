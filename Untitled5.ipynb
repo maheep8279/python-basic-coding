{
 "cells": [
  {
   "cell_type": "code",
   "execution_count": 3,
   "id": "8b74a183",
   "metadata": {},
   "outputs": [
    {
     "name": "stdout",
     "output_type": "stream",
     "text": [
      "Enter the name of the text file: Notes23Sept\n",
      "File 'Notes23Sept' not found.\n"
     ]
    }
   ],
   "source": [
    "#Write a program that reads a text file and prints its contents.\n",
    "file_name = input(\"Enter the name of the text file: \")\n",
    "\n",
    "try:\n",
    "    \n",
    "    with open(file_name, 'r') as file:\n",
    "    \n",
    "        file_contents = file.read()\n",
    "        print(\"File Contents:\")\n",
    "        print(file_contents)\n",
    "except FileNotFoundError:\n",
    "    print(f\"File '{file_name}' not found.\")\n",
    "except Exception as e:\n",
    "    print(f\"An error occurred: {e}\")"
   ]
  },
  {
   "cell_type": "code",
   "execution_count": 4,
   "id": "a4a1b4cf",
   "metadata": {},
   "outputs": [
    {
     "name": "stdout",
     "output_type": "stream",
     "text": [
      "File 'new_text_file.txt' has been created and content has been written to it.\n"
     ]
    }
   ],
   "source": [
    "#Create a new text file and write some content into it.\n",
    "\n",
    "file_name = \"new_text_file.txt\"\n",
    "file_content = \"\"\"This is a new text file.\n",
    "It contains multiple lines of text.\n",
    "You can write whatever you want in it.\n",
    "\"\"\"\n",
    "\n",
    "# Open the file in write mode ('w')\n",
    "with open(file_name, 'w') as file:\n",
    "    # Write the content to the file\n",
    "    file.write(file_content)\n",
    "\n",
    "print(f\"File '{file_name}' has been created and content has been written to it.\")\n"
   ]
  },
  {
   "cell_type": "code",
   "execution_count": 5,
   "id": "e24ef61f",
   "metadata": {},
   "outputs": [
    {
     "name": "stdout",
     "output_type": "stream",
     "text": [
      "File 'data.csv' not found.\n"
     ]
    }
   ],
   "source": [
    "# Read a CSV file and process its data.\n",
    "import csv\n",
    "\n",
    "# Define the CSV file name\n",
    "csv_file = \"data.csv\"\n",
    "\n",
    "try:\n",
    "    # Open the CSV file for reading\n",
    "    with open(csv_file, 'r', newline='') as file:\n",
    "        # Create a CSV reader\n",
    "        csv_reader = csv.DictReader(file)\n",
    "        \n",
    "        # Process each row of data\n",
    "        for row in csv_reader:\n",
    "            name = row['Name']\n",
    "            age = row['Age']\n",
    "            location = row['Location']\n",
    "            \n",
    "            # Process the data (you can perform any desired operations here)\n",
    "            print(f\"Name: {name}, Age: {age}, Location: {location}\")\n",
    "except FileNotFoundError:\n",
    "    print(f\"File '{csv_file}' not found.\")\n",
    "except Exception as e:\n",
    "    print(f\"An error occurred: {e}\")\n"
   ]
  },
  {
   "cell_type": "code",
   "execution_count": 8,
   "id": "c453bd34",
   "metadata": {},
   "outputs": [
    {
     "ename": "SyntaxError",
     "evalue": "expected 'except' or 'finally' block (969881476.py, line 10)",
     "output_type": "error",
     "traceback": [
      "\u001b[1;36m  Cell \u001b[1;32mIn[8], line 10\u001b[1;36m\u001b[0m\n\u001b[1;33m    print(f\"Contents of '{source_file_name}' copied to '{destination_file_name}' successfully.\")\u001b[0m\n\u001b[1;37m    ^\u001b[0m\n\u001b[1;31mSyntaxError\u001b[0m\u001b[1;31m:\u001b[0m expected 'except' or 'finally' block\n"
     ]
    }
   ],
   "source": [
    "#Write a Python program to copy the contents of one text file into another\n",
    "source_file_name = \"source_file.txt\"\n",
    "destination_file_name = \"destination_file.txt\"\n",
    "\n",
    "try:\n",
    "        with open(source_file_name, 'r') as source_file:\n",
    "            file_contents = source_file.read()\n",
    "        with open(destination_file_name, 'w') as destination_file:\n",
    "            destination_file.write(file_contents)\n",
    "print(f\"Contents of '{source_file_name}' copied to '{destination_file_name}' successfully.\")\n",
    "except FileNotFoundError:\n",
    "    print(f\"One of the files ('{source_file_name}' or '{destination_file_name}') not found.\")\n",
    "except Exception as e:\n",
    "    print(f\"An error occurred: {e}\")"
   ]
  },
  {
   "cell_type": "code",
   "execution_count": 9,
   "id": "3d8c2d1f",
   "metadata": {},
   "outputs": [
    {
     "name": "stdout",
     "output_type": "stream",
     "text": [
      "File 'student_scores.csv' not found.\n"
     ]
    }
   ],
   "source": [
    "#Given a CSV file with student names and scores, find the student with the highest score\n",
    "import csv\n",
    "\n",
    "# Define the CSV file name\n",
    "csv_file = \"student_scores.csv\"\n",
    "\n",
    "try:\n",
    "    # Open the CSV file for reading\n",
    "    with open(csv_file, 'r') as file:\n",
    "        # Create a CSV reader\n",
    "        csv_reader = csv.DictReader(file)\n",
    "        \n",
    "        highest_score = -1  # Initialize with a lower value\n",
    "        student_with_highest_score = None\n",
    "        \n",
    "        # Iterate through the rows and find the student with the highest score\n",
    "        for row in csv_reader:\n",
    "            name = row['Name']\n",
    "            score = int(row['Score'])\n",
    "            \n",
    "            if score > highest_score:\n",
    "                highest_score = score\n",
    "                student_with_highest_score = name\n",
    "    \n",
    "    if student_with_highest_score:\n",
    "        print(f\"The student with the highest score is {student_with_highest_score} with a score of {highest_score}.\")\n",
    "    else:\n",
    "        print(\"No student records found.\")\n",
    "except FileNotFoundError:\n",
    "    print(f\"File '{csv_file}' not found.\")\n",
    "except Exception as e:\n",
    "    print(f\"An error occurred: {e}\")\n"
   ]
  },
  {
   "cell_type": "code",
   "execution_count": null,
   "id": "4e1d83df",
   "metadata": {},
   "outputs": [],
   "source": []
  }
 ],
 "metadata": {
  "kernelspec": {
   "display_name": "Python 3 (ipykernel)",
   "language": "python",
   "name": "python3"
  },
  "language_info": {
   "codemirror_mode": {
    "name": "ipython",
    "version": 3
   },
   "file_extension": ".py",
   "mimetype": "text/x-python",
   "name": "python",
   "nbconvert_exporter": "python",
   "pygments_lexer": "ipython3",
   "version": "3.11.4"
  }
 },
 "nbformat": 4,
 "nbformat_minor": 5
}
