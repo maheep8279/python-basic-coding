{
 "cells": [
  {
   "cell_type": "code",
   "execution_count": 6,
   "id": "5810e9ad",
   "metadata": {},
   "outputs": [
    {
     "name": "stdout",
     "output_type": "stream",
     "text": [
      "Enter the radius34\n",
      "3629.84\n"
     ]
    }
   ],
   "source": [
    "#Write a function to calculate the area of a circle given its radius\n",
    "r=int(input(\"Enter the radius\"))\n",
    "def cir(r):\n",
    "    area=3.14*r*r\n",
    "    return area\n",
    "cir(r)\n",
    "print(area)"
   ]
  },
  {
   "cell_type": "code",
   "execution_count": 2,
   "id": "2550cdaa",
   "metadata": {},
   "outputs": [
    {
     "name": "stdout",
     "output_type": "stream",
     "text": [
      "Enter the number13\n",
      "Number is prime\n"
     ]
    }
   ],
   "source": [
    "#Create a function to check if a number is prime\n",
    "n=int(input(\"Enter the number\"))\n",
    "c=0\n",
    "def prime(n):\n",
    "    for i in range(2,(n-2)):\n",
    "        if(n%i!=0):\n",
    "            return True\n",
    "        else:\n",
    "            return False\n",
    "if prime(n):\n",
    "    print(\"Number is prime\")\n",
    "else:\n",
    "    print(\"Number is not prime\") \n",
    "        \n",
    "        "
   ]
  },
  {
   "cell_type": "code",
   "execution_count": 15,
   "id": "0653f236",
   "metadata": {},
   "outputs": [
    {
     "name": "stdout",
     "output_type": "stream",
     "text": [
      "Enter a string: maheep\n",
      "Reversed string: peeham\n"
     ]
    }
   ],
   "source": [
    "#Implement a function that reverses a given string\n",
    "def reverse_string(input_string):\n",
    "    reversed_string = input_string[::-1]\n",
    "    return reversed_string\n",
    "input_str = input(\"Enter a string: \")\n",
    "reversed_str = reverse_string(input_str)\n",
    "print(\"Reversed string:\", reversed_str)\n"
   ]
  },
  {
   "cell_type": "code",
   "execution_count": 7,
   "id": "763f90be",
   "metadata": {},
   "outputs": [
    {
     "name": "stdout",
     "output_type": "stream",
     "text": [
      "36\n"
     ]
    }
   ],
   "source": [
    "#Given a list of numbers, create a function to find the sum of all positive numbers\n",
    "def posnum(n):\n",
    "    t_sum=0\n",
    "    for i in n:\n",
    "        if i>0:\n",
    "            t_sum+=i\n",
    "    return t_sum\n",
    "l=[1,2,3,4,5,6,7,8]\n",
    "r=posnum(l);\n",
    "print(r)\n"
   ]
  },
  {
   "cell_type": "code",
   "execution_count": null,
   "id": "0727187f",
   "metadata": {},
   "outputs": [],
   "source": [
    "#Write a Python function to check if a given string is a palindrome\n",
    "def is_palin(str):\n",
    "    r_str=str[::-1]\n",
    "    if(str==r_str):\n",
    "        return True\n",
    "    else:\n",
    "        return False\n",
    "str=input(\"Enter the string \")\n",
    "if(is_palin(str)):\n",
    "    print(\"Palindrome\")\n",
    "else:\n",
    "    print(\"Not Palindrome\")\n",
    "\n"
   ]
  },
  {
   "cell_type": "code",
   "execution_count": 1,
   "id": "5fb59907",
   "metadata": {},
   "outputs": [
    {
     "name": "stdout",
     "output_type": "stream",
     "text": [
      "Enter the number5\n",
      "120\n"
     ]
    }
   ],
   "source": [
    "#Implement a function that returns the factorial of a given number using recursion\n",
    "def factorial(n):\n",
    "    if n == 0:\n",
    "        return 1\n",
    "    else:\n",
    "        return n * factorial(n - 1)\n",
    "n=int(input(\"Enter the number\"))\n",
    "num=factorial(n)\n",
    "print(num)\n"
   ]
  },
  {
   "cell_type": "code",
   "execution_count": 20,
   "id": "3a036d6a",
   "metadata": {},
   "outputs": [
    {
     "name": "stdout",
     "output_type": "stream",
     "text": [
      "[1, 4, 9, 16, 25, 36]\n"
     ]
    }
   ],
   "source": [
    "#Create a function to find the square of each element in a given list\n",
    "def sq_element(l):\n",
    "    sq_l=[i**2 for i in l]\n",
    "    return sq_l\n",
    "l=[1,2,3,4,5,6]\n",
    "sq_l=sq_element(l)\n",
    "print(sq_l)\n",
    "    \n",
    "    \n",
    "        \n",
    "        \n"
   ]
  },
  {
   "cell_type": "code",
   "execution_count": 22,
   "id": "0af1520a",
   "metadata": {},
   "outputs": [
    {
     "name": "stdout",
     "output_type": "stream",
     "text": [
      "Enter the number53\n",
      "odd\n"
     ]
    }
   ],
   "source": [
    "#Write a function to check if a number is even or odd and return \"Even\" or \"Odd\" accordingly\n",
    "def even_odd(n):\n",
    "    i=0\n",
    "    for i in range(n+1):\n",
    "        if(n%2==0):\n",
    "            return True\n",
    "        else:\n",
    "            return False\n",
    "n=int(input(\"Enter the number\"))\n",
    "if(even_odd(n)): \n",
    "    print(\"Even\")\n",
    "else:\n",
    "    print(\"odd\")\n",
    "       \n",
    "        "
   ]
  },
  {
   "cell_type": "code",
   "execution_count": 29,
   "id": "63d9099d",
   "metadata": {
    "scrolled": true
   },
   "outputs": [
    {
     "name": "stdout",
     "output_type": "stream",
     "text": [
      "Enter the base2\n",
      "Enter the height5\n",
      "Area of triangle is 5.0\n"
     ]
    }
   ],
   "source": [
    "#Calculate the area of a triangle given its base and height using a function\n",
    "def ar(b,h):\n",
    "    area=0.5*b*h\n",
    "    return area\n",
    "b=float(input(\"Enter the base\"))\n",
    "h=float(input(\"Enter the height\"))\n",
    "t_area=ar(b,h)\n",
    "print(\"Area of triangle is\",t_area)"
   ]
  },
  {
   "cell_type": "code",
   "execution_count": 30,
   "id": "40503fa2",
   "metadata": {},
   "outputs": [
    {
     "name": "stdout",
     "output_type": "stream",
     "text": [
      "['Aman', 'Maheep', 'Prakhar', 'Sanchit']\n"
     ]
    }
   ],
   "source": [
    "#Create a function that takes a list of strings and returns the list sorted alphabetically\n",
    "def sort(l):\n",
    "    sort_l=sorted(l)\n",
    "    return sort_l\n",
    "l=[\"Prakhar\",\"Aman\",\"Sanchit\",\"Maheep\"]\n",
    "s_l=sort(l)\n",
    "print(s_l)"
   ]
  },
  {
   "cell_type": "code",
   "execution_count": 32,
   "id": "ca008f19",
   "metadata": {},
   "outputs": [
    {
     "name": "stdout",
     "output_type": "stream",
     "text": [
      "[3, 4, 5]\n"
     ]
    }
   ],
   "source": [
    "#Write a function that takes two lists and returns their intersection (common elements)\n",
    "def find_intersection(list1, list2):\n",
    "    set1 = set(list1)\n",
    "    set2 = set(list2)\n",
    "    intersection = set1.intersection(set2)\n",
    "    intersection_list = list(intersection)\n",
    "    return intersection_list\n",
    "list1 = [1, 2, 3, 4, 5]\n",
    "list2 = [3, 4, 5, 6, 7]\n",
    "result = find_intersection(list1, list2)\n",
    "print(result)"
   ]
  },
  {
   "cell_type": "code",
   "execution_count": 39,
   "id": "53bb4551",
   "metadata": {},
   "outputs": [
    {
     "name": "stdout",
     "output_type": "stream",
     "text": [
      "Enter the Number14\n",
      "14\n",
      "28\n",
      "42\n",
      "56\n",
      "70\n",
      "84\n",
      "98\n",
      "112\n",
      "126\n",
      "140\n"
     ]
    }
   ],
   "source": [
    "#Create a function that takes a number as input and prints its multiplication table\n",
    "def table(n):\n",
    "    for i in range(1,11):\n",
    "        a=n*i\n",
    "        print(a)      \n",
    "n=int(input(\"Enter the Number\"))\n",
    "table(n)"
   ]
  },
  {
   "cell_type": "code",
   "execution_count": null,
   "id": "0efedf30",
   "metadata": {},
   "outputs": [],
   "source": []
  }
 ],
 "metadata": {
  "kernelspec": {
   "display_name": "Python 3 (ipykernel)",
   "language": "python",
   "name": "python3"
  },
  "language_info": {
   "codemirror_mode": {
    "name": "ipython",
    "version": 3
   },
   "file_extension": ".py",
   "mimetype": "text/x-python",
   "name": "python",
   "nbconvert_exporter": "python",
   "pygments_lexer": "ipython3",
   "version": "3.11.4"
  }
 },
 "nbformat": 4,
 "nbformat_minor": 5
}
