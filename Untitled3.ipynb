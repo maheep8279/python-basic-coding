{
 "cells": [
  {
   "cell_type": "code",
   "execution_count": 1,
   "id": "175d0b91",
   "metadata": {},
   "outputs": [
    {
     "data": {
      "text/plain": [
       "7"
      ]
     },
     "execution_count": 1,
     "metadata": {},
     "output_type": "execute_result"
    }
   ],
   "source": [
    "3+4"
   ]
  },
  {
   "cell_type": "code",
   "execution_count": 4,
   "id": "b51aa9e6",
   "metadata": {},
   "outputs": [
    {
     "name": "stdout",
     "output_type": "stream",
     "text": [
      "Prime\n"
     ]
    }
   ],
   "source": [
    "n=13\n",
    "def prime(n):\n",
    "    for i in range(2,n):\n",
    "        if(n%i!=0):\n",
    "            return True\n",
    "        else:\n",
    "            return False\n",
    "if prime(n):\n",
    "    print(\"Prime\")\n",
    "else:\n",
    "    print(\"Not prime\")\n",
    "        \n"
   ]
  },
  {
   "cell_type": "code",
   "execution_count": 7,
   "id": "8885a623",
   "metadata": {},
   "outputs": [
    {
     "name": "stdout",
     "output_type": "stream",
     "text": [
      "60\n"
     ]
    }
   ],
   "source": [
    "def my_func(*args):\n",
    "    return sum(args)\n",
    "print(my_func(10,20,30))"
   ]
  },
  {
   "cell_type": "code",
   "execution_count": 12,
   "id": "83f2dc9a",
   "metadata": {},
   "outputs": [
    {
     "name": "stdout",
     "output_type": "stream",
     "text": [
      "name: Maheep\n",
      "age: 22\n",
      "city: Mainpuri\n"
     ]
    }
   ],
   "source": [
    "def my_func(**kwargs):\n",
    "    for key, value in kwargs.items():\n",
    "        print(f\"{key}: {value}\")\n",
    "\n",
    "my_func(name=\"Maheep\", age=22, city=\"Mainpuri\")\n"
   ]
  },
  {
   "cell_type": "code",
   "execution_count": 13,
   "id": "0bfc5de7",
   "metadata": {},
   "outputs": [
    {
     "name": "stdout",
     "output_type": "stream",
     "text": [
      "Enter the string maheep\n",
      "Not Palindrome\n"
     ]
    }
   ],
   "source": [
    "#Create a program that checks if a given string is a palindrome\n",
    "def is_palin(str):\n",
    "    r_str=str[::-1]\n",
    "    if(str==r_str):\n",
    "        return True\n",
    "    else:\n",
    "        return False\n",
    "str=input(\"Enter the string \")\n",
    "if(is_palin(str)):\n",
    "    print(\"Palindrome\")\n",
    "else:\n",
    "    print(\"Not Palindrome\")\n"
   ]
  },
  {
   "cell_type": "code",
   "execution_count": 16,
   "id": "0b8ca199",
   "metadata": {},
   "outputs": [
    {
     "name": "stdout",
     "output_type": "stream",
     "text": [
      "Enter the string maheep\n",
      "Number of vowels: 3\n"
     ]
    }
   ],
   "source": [
    "def count_vowels(string):\n",
    "    vowels = \"AEIOUaeiou\"\n",
    "    count = 0\n",
    "    for char in string:\n",
    "        if char in vowels:\n",
    "            count += 1\n",
    "    return count\n",
    "input_string = input(\"Enter the string \")\n",
    "num_vowels = count_vowels(input_string)\n",
    "print(\"Number of vowels:\", num_vowels)"
   ]
  },
  {
   "cell_type": "code",
   "execution_count": 18,
   "id": "c9c4cb79",
   "metadata": {},
   "outputs": [
    {
     "name": "stdout",
     "output_type": "stream",
     "text": [
      "1\n",
      "4\n",
      "9\n",
      "16\n",
      "25\n"
     ]
    }
   ],
   "source": [
    "def square(num):\n",
    "    return num**2\n",
    "my_nums=[1,2,3,4,5]\n",
    "for item in map(square,my_nums):\n",
    "    print(item)\n"
   ]
  },
  {
   "cell_type": "code",
   "execution_count": 19,
   "id": "0c5dcd3b",
   "metadata": {},
   "outputs": [
    {
     "data": {
      "text/plain": [
       "[1, 4, 9, 16, 25]"
      ]
     },
     "execution_count": 19,
     "metadata": {},
     "output_type": "execute_result"
    }
   ],
   "source": [
    "list(map(square,my_nums))"
   ]
  },
  {
   "cell_type": "code",
   "execution_count": 22,
   "id": "9a126036",
   "metadata": {},
   "outputs": [],
   "source": [
    "def sp(str):\n",
    "    if len(str)%2==0:\n",
    "        return 'EVEN'\n",
    "    else:\n",
    "        return mystring[0]\n",
    "names=['maheep','aman','prakhar']\n",
    "    "
   ]
  },
  {
   "cell_type": "code",
   "execution_count": 24,
   "id": "259eab76",
   "metadata": {},
   "outputs": [
    {
     "data": {
      "text/plain": [
       "['EVEN', 'EVEN']"
      ]
     },
     "execution_count": 24,
     "metadata": {},
     "output_type": "execute_result"
    }
   ],
   "source": [
    "list(map(sp,names))"
   ]
  },
  {
   "cell_type": "code",
   "execution_count": 25,
   "id": "6e424c19",
   "metadata": {},
   "outputs": [],
   "source": [
    "def check_num(num):\n",
    "    return num%2==0"
   ]
  },
  {
   "cell_type": "code",
   "execution_count": 29,
   "id": "18525db0",
   "metadata": {},
   "outputs": [],
   "source": [
    "mynums=[1,2,3,4,5,6]"
   ]
  },
  {
   "cell_type": "code",
   "execution_count": 30,
   "id": "b47e1ed8",
   "metadata": {},
   "outputs": [
    {
     "name": "stdout",
     "output_type": "stream",
     "text": [
      "2\n",
      "4\n",
      "6\n"
     ]
    }
   ],
   "source": [
    "for n in filter(check_num,mynums):\n",
    "    print(n)"
   ]
  },
  {
   "cell_type": "code",
   "execution_count": 31,
   "id": "346488d3",
   "metadata": {},
   "outputs": [
    {
     "name": "stdout",
     "output_type": "stream",
     "text": [
      "[1, 4, 9, 16]\n"
     ]
    }
   ],
   "source": [
    "\n",
    "nums=[1,2,3,4]\n",
    "sq_nums=list(map(lambda x:x**2,nums))\n",
    "print(sq_nums)"
   ]
  },
  {
   "cell_type": "code",
   "execution_count": 33,
   "id": "40e2e5c5",
   "metadata": {},
   "outputs": [
    {
     "data": {
      "text/plain": [
       "[2, 4]"
      ]
     },
     "execution_count": 33,
     "metadata": {},
     "output_type": "execute_result"
    }
   ],
   "source": [
    "list(filter(lambda num:num%2==0,nums))\n",
    "    "
   ]
  },
  {
   "cell_type": "code",
   "execution_count": 36,
   "id": "e7381bf2",
   "metadata": {},
   "outputs": [],
   "source": [
    "name='maheep'\n",
    "def greet():\n",
    "    name='chauhan'\n",
    "    def hello():\n",
    "        print('Hello'+name)\n",
    "    hello()\n"
   ]
  },
  {
   "cell_type": "code",
   "execution_count": 37,
   "id": "c0380f02",
   "metadata": {},
   "outputs": [
    {
     "name": "stdout",
     "output_type": "stream",
     "text": [
      "Hellochauhan\n"
     ]
    }
   ],
   "source": [
    "greet()"
   ]
  },
  {
   "cell_type": "code",
   "execution_count": 38,
   "id": "af2be5d3",
   "metadata": {},
   "outputs": [
    {
     "name": "stdout",
     "output_type": "stream",
     "text": [
      "Hello World Python Programming\n"
     ]
    }
   ],
   "source": [
    "#Given a list of words, concatenate them into a single string separated by spaces\n",
    "# List of words\n",
    "words = [\"Hello\", \"World\", \"Python\", \"Programming\"]\n",
    "result = \" \".join(words)\n",
    "print(result)  "
   ]
  },
  {
   "cell_type": "code",
   "execution_count": 39,
   "id": "6a7f643b",
   "metadata": {},
   "outputs": [
    {
     "name": "stdout",
     "output_type": "stream",
     "text": [
      "Enter a sentence: my name is is \n",
      "The number of words in the sentence is: 4\n"
     ]
    }
   ],
   "source": [
    "#Write a program that takes a sentence as input and counts the number of words in it\n",
    "sentence = input(\"Enter a sentence: \")\n",
    "words = sentence.split()\n",
    "word_count = len(words)\n",
    "print(f\"The number of words in the sentence is: {word_count}\")\n"
   ]
  },
  {
   "cell_type": "code",
   "execution_count": 43,
   "id": "b0d34c09",
   "metadata": {},
   "outputs": [
    {
     "name": "stdout",
     "output_type": "stream",
     "text": [
      "Modified string: Hll, Wrld!\n"
     ]
    }
   ],
   "source": [
    "#Given a string, write a function to remove all vowels from it and return the modified string\n",
    "def remove_vowels(input_string):\n",
    "    vowels = \"AEIOUaeiou\"\n",
    "    result_string = \"\"\n",
    "    for char in input_string:\n",
    "        if char not in vowels:\n",
    "            result_string += char\n",
    "    return result_string\n",
    "input_string = \"Hello, World!\"\n",
    "modified_string = remove_vowels(input_string)\n",
    "print(\"Modified string:\", modified_string)\n",
    "\n"
   ]
  },
  {
   "cell_type": "code",
   "execution_count": 44,
   "id": "5a9c1a97",
   "metadata": {},
   "outputs": [
    {
     "name": "stdout",
     "output_type": "stream",
     "text": [
      "Length of the longest word: 5\n"
     ]
    }
   ],
   "source": [
    "#Write a Python program to find the length of the longest word in a sentence\n",
    "def find_longest_word_length(sentence):\n",
    "    words = sentence.split()\n",
    "    longest_length = 0\n",
    "    for word in words:\n",
    "        word_length = len(word)\n",
    "        if word_length > longest_length:\n",
    "            longest_length = word_length\n",
    "    return longest_length\n",
    "sentence = \"The quick brown fox jumps over the lazy dog\"\n",
    "length = find_longest_word_length(sentence)\n",
    "print(\"Length of the longest word:\", length)\n"
   ]
  },
  {
   "cell_type": "code",
   "execution_count": 45,
   "id": "8b48a071",
   "metadata": {},
   "outputs": [
    {
     "name": "stdout",
     "output_type": "stream",
     "text": [
      "Enter a string: maheep is\n",
      "Reversed string: si peeham\n"
     ]
    }
   ],
   "source": [
    "#Create a function that takes a sentence as input and returns the sentence in reverse order\n",
    "def reverse_string(input_string):\n",
    "    reversed_string = input_string[::-1]\n",
    "    return reversed_string\n",
    "input_str = input(\"Enter a string: \")\n",
    "reversed_str = reverse_string(input_str)\n",
    "print(\"Reversed string:\", reversed_str)\n"
   ]
  },
  {
   "cell_type": "code",
   "execution_count": 46,
   "id": "a87b006d",
   "metadata": {},
   "outputs": [
    {
     "name": "stdout",
     "output_type": "stream",
     "text": [
      "Number of names starting with a vowel: 3\n"
     ]
    }
   ],
   "source": [
    "#Given a list of names, count the number of names that start with a vowel\n",
    "def count_names_starting_with_vowel(names):\n",
    "    vowel_count = 0\n",
    "    vowels = set(\"AEIOUaeiou\")\n",
    "    for name in names:\n",
    "        if name[0] in vowels:\n",
    "            vowel_count += 1  \n",
    "    return vowel_count\n",
    "name_list = [\"Alice\", \"Bob\", \"Eve\", \"John\", \"Oliver\"]\n",
    "count = count_names_starting_with_vowel(name_list)\n",
    "print(\"Number of names starting with a vowel:\", count)"
   ]
  },
  {
   "cell_type": "code",
   "execution_count": 55,
   "id": "a82ad596",
   "metadata": {},
   "outputs": [
    {
     "name": "stdout",
     "output_type": "stream",
     "text": [
      "progamin\n"
     ]
    }
   ],
   "source": [
    "#Write a function to remove all duplicate characters from a given string\n",
    "def remove_duplicates(input_string):\n",
    "    unique_chars = set()\n",
    "    result = \"\"\n",
    "    for char in input_string:\n",
    "            if char not in unique_chars:\n",
    "                unique_chars.add(char)\n",
    "                result += char\n",
    "    return result\n",
    "input_str = \"programming\"\n",
    "output_str = remove_duplicates(input_str)\n",
    "print(output_str) \n"
   ]
  },
  {
   "cell_type": "code",
   "execution_count": 56,
   "id": "fb9b8f7d",
   "metadata": {},
   "outputs": [
    {
     "name": "stdout",
     "output_type": "stream",
     "text": [
      "'sample' is present in the sentence.\n"
     ]
    }
   ],
   "source": [
    "#Implement a program that takes a sentence and a word as input and checks if the word is present in the sentence.\n",
    "def is_word_in_sentence(sentence, word):\n",
    "    words_in_sentence = sentence.split()   \n",
    "    if word in words_in_sentence:\n",
    "        return True\n",
    "    else:\n",
    "        return False\n",
    "sentence = \"This is a sample sentence.\"\n",
    "word_to_check = \"sample\"\n",
    "if is_word_in_sentence(sentence, word_to_check):\n",
    "    print(f\"'{word_to_check}' is present in the sentence.\")\n",
    "else:\n",
    "    print(f\"'{word_to_check}' is not present in the sentence.\")\n"
   ]
  },
  {
   "cell_type": "code",
   "execution_count": 7,
   "id": "86674f86",
   "metadata": {},
   "outputs": [
    {
     "ename": "TypeError",
     "evalue": "<lambda>() missing 1 required positional argument: 'y'",
     "output_type": "error",
     "traceback": [
      "\u001b[1;31m---------------------------------------------------------------------------\u001b[0m",
      "\u001b[1;31mTypeError\u001b[0m                                 Traceback (most recent call last)",
      "Cell \u001b[1;32mIn[7], line 4\u001b[0m\n\u001b[0;32m      2\u001b[0m y\u001b[38;5;241m=\u001b[39m\u001b[38;5;241m20\u001b[39m\n\u001b[0;32m      3\u001b[0m add\u001b[38;5;241m=\u001b[39m\u001b[38;5;28;01mlambda\u001b[39;00m x,y:x\u001b[38;5;241m+\u001b[39my\n\u001b[1;32m----> 4\u001b[0m result\u001b[38;5;241m=\u001b[39madd(x\u001b[38;5;241m+\u001b[39my)\n\u001b[0;32m      5\u001b[0m \u001b[38;5;28mprint\u001b[39m(result)\n",
      "\u001b[1;31mTypeError\u001b[0m: <lambda>() missing 1 required positional argument: 'y'"
     ]
    }
   ],
   "source": [
    "\n",
    "add=lambda x,y:x+y\n",
    "result=add(x+y)\n",
    "print(result)"
   ]
  },
  {
   "cell_type": "code",
   "execution_count": 4,
   "id": "1c5b2e9f",
   "metadata": {},
   "outputs": [
    {
     "name": "stdout",
     "output_type": "stream",
     "text": [
      "[2, 4, 6, 8, 10]\n"
     ]
    }
   ],
   "source": [
    "numbers=[1,2,3,4,5]\n",
    "square=list(map(lambda x:x*2,numbers))\n",
    "print(square)"
   ]
  },
  {
   "cell_type": "code",
   "execution_count": 6,
   "id": "812ec6cd",
   "metadata": {},
   "outputs": [
    {
     "name": "stdout",
     "output_type": "stream",
     "text": [
      "[2, 4]\n"
     ]
    }
   ],
   "source": [
    "even_num=list(filter(lambda x:x%2==0,numbers))\n",
    "print(even_num)"
   ]
  },
  {
   "cell_type": "code",
   "execution_count": 2,
   "id": "f33a4fb2",
   "metadata": {},
   "outputs": [
    {
     "name": "stdout",
     "output_type": "stream",
     "text": [
      "Emter the stringMaheep\n",
      "Not palindrome\n"
     ]
    }
   ],
   "source": [
    "def is_palin(str):\n",
    "    r_str=str[ : :-1]\n",
    "    if(str==r_str):\n",
    "        return True\n",
    "    else:\n",
    "        return False\n",
    "str=input(\"Emter the string\")\n",
    "if(is_palin(str)):\n",
    "    print(\"Palindrome\")\n",
    "else:\n",
    "    print(\"Not palindrome\")"
   ]
  },
  {
   "cell_type": "code",
   "execution_count": 5,
   "id": "8dea6bcd",
   "metadata": {},
   "outputs": [
    {
     "name": "stdout",
     "output_type": "stream",
     "text": [
      "Enter the number5\n",
      "120\n"
     ]
    }
   ],
   "source": [
    "n=int(input(\"Enter the number\"))\n",
    "f=1\n",
    "for i in range(1,(n+1)):\n",
    "    f=f*i\n",
    "print(f)\n",
    "    "
   ]
  },
  {
   "cell_type": "code",
   "execution_count": 12,
   "id": "c99a8aa3",
   "metadata": {},
   "outputs": [
    {
     "name": "stdout",
     "output_type": "stream",
     "text": [
      "Maheep 22 1\n"
     ]
    }
   ],
   "source": [
    "#Create a Person class with attributes such as name, age, and id.\n",
    "#Include a method display_info() that prints the basic information about a person.\n",
    "\n",
    "class Person:\n",
    "    def __init__(self,name,age,id):\n",
    "        self.name=name\n",
    "        self.age=age\n",
    "        self.id=id\n",
    "    def display_info(self):\n",
    "        print(self.name,self.age,self.id)\n",
    "\n",
    "p1=Person(\"Maheep\",\"22\",\"1\")\n",
    "p1.display_info()\n",
    "\n",
    "\n",
    "    \n",
    "\n",
    " "
   ]
  },
  {
   "cell_type": "code",
   "execution_count": null,
   "id": "1b6998f4",
   "metadata": {},
   "outputs": [],
   "source": [
    "\n",
    "\n",
    "#1,2,3,4,4,5,5,5\n",
    "for i in mylist:\n",
    "    if(mylist[i]==mylist)\n",
    "    \n"
   ]
  }
 ],
 "metadata": {
  "kernelspec": {
   "display_name": "Python 3 (ipykernel)",
   "language": "python",
   "name": "python3"
  },
  "language_info": {
   "codemirror_mode": {
    "name": "ipython",
    "version": 3
   },
   "file_extension": ".py",
   "mimetype": "text/x-python",
   "name": "python",
   "nbconvert_exporter": "python",
   "pygments_lexer": "ipython3",
   "version": "3.11.4"
  }
 },
 "nbformat": 4,
 "nbformat_minor": 5
}
