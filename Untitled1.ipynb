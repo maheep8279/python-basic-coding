{
 "cells": [
  {
   "cell_type": "code",
   "execution_count": null,
   "id": "cf5a3c9f",
   "metadata": {},
   "outputs": [],
   "source": [
    "#Write a program that checks if a given number is positive, negative, or zero.\n",
    "n=int(input(\"Enter a number\"))\n",
    "if n>0:\n",
    "    print(\"Number is positive\")\n",
    "elif n==0:\n",
    "    print(\"Number is zero\")\n",
    "else:\n",
    "    print(\"Number is negative\")\n"
   ]
  },
  {
   "cell_type": "code",
   "execution_count": null,
   "id": "b2dde469",
   "metadata": {},
   "outputs": [],
   "source": [
    "#Create a loop that prints the first 10 even numbers\n",
    "for x in range(1,21):\n",
    "    if x%2==0:\n",
    "        print(x)"
   ]
  },
  {
   "cell_type": "code",
   "execution_count": 58,
   "id": "53dbdfce",
   "metadata": {},
   "outputs": [
    {
     "name": "stdout",
     "output_type": "stream",
     "text": [
      "Enter a list of numbers separated by spaces: 3 4 5  6\n",
      "The largest number in the list is: 6\n"
     ]
    }
   ],
   "source": [
    "#Implement a program that finds the largest number in a list.\n",
    "n = list(map(int, input(\"Enter a list of numbers separated by spaces: \").split()))\n",
    "largest = max(n)\n",
    "print(\"The largest number in the list is:\", largest)\n"
   ]
  },
  {
   "cell_type": "code",
   "execution_count": 57,
   "id": "d65f0dfc",
   "metadata": {},
   "outputs": [
    {
     "name": "stdout",
     "output_type": "stream",
     "text": [
      "enter the year1234\n",
      "Not a leap year\n"
     ]
    }
   ],
   "source": [
    "#Create a program that takes a year as input and checks if it is a leap year or not\n",
    "y=int(input(\"enter the year\"))\n",
    "if(y%4==0):\n",
    "    print(\"leap year\")\n",
    "else:   \n",
    "    \n",
    "    print(\"Not a leap year\")"
   ]
  },
  {
   "cell_type": "code",
   "execution_count": null,
   "id": "b7f95390",
   "metadata": {},
   "outputs": [],
   "source": [
    "#Given a list of integers, find all the even numbers and store them in a new list\n",
    "l=list(map(int,input(\"Enter the list\").split()));\n",
    "even_numbers=[]\n",
    "for n in l :\n",
    "    if n % 2 == 0:\n",
    "        even_numbers.append(n)\n",
    "print(even_numbers)\n",
    "\n",
    "         "
   ]
  },
  {
   "cell_type": "code",
   "execution_count": 52,
   "id": "ad2f2303",
   "metadata": {},
   "outputs": [
    {
     "name": "stdout",
     "output_type": "stream",
     "text": [
      "Enter the number12\n",
      "Number is not prime\n"
     ]
    }
   ],
   "source": [
    "#Write a Python program to check if a given number is a prime number\n",
    "n=int(input(\"Enter the number\"))\n",
    "c=0\n",
    "for i in range (2,(n-1)):\n",
    "    if(n%i==0):\n",
    "        c+=1\n",
    "if(c==0):\n",
    "    print(\"Number is prime\")\n",
    "else:\n",
    "     print(\"Number is not prime\")\n",
    "    \n",
    "        \n",
    "        \n",
    "    "
   ]
  },
  {
   "cell_type": "code",
   "execution_count": 65,
   "id": "9f72d5b2",
   "metadata": {},
   "outputs": [
    {
     "name": "stdout",
     "output_type": "stream",
     "text": [
      "Enter the number of terms7\n",
      "0 1 1 2 3 5 8 "
     ]
    }
   ],
   "source": [
    "#Create a program that generates the Fibonacci sequence up to a given number of terms\n",
    "n=int(input(\"Enter the number of terms\"))\n",
    "f=0\n",
    "s=1\n",
    "print(f,s,end=' ')\n",
    "for i in range(2,n):\n",
    "    t=f+s\n",
    "    print(t,end=' ')\n",
    "    f=s\n",
    "    s=t\n",
    "\n"
   ]
  },
  {
   "cell_type": "code",
   "execution_count": 69,
   "id": "d1db67b8",
   "metadata": {},
   "outputs": [
    {
     "name": "stdout",
     "output_type": "stream",
     "text": [
      "aditi\n",
      "anuj\n"
     ]
    }
   ],
   "source": [
    "#Given a list of names, print all names starting with the letter 'A'\n",
    "l=['aditi','anuj','maheep']\n",
    "for n in l:\n",
    "    if n.startswith('a'):\n",
    "        print(n)\n"
   ]
  },
  {
   "cell_type": "code",
   "execution_count": 72,
   "id": "cb9b6d5d",
   "metadata": {},
   "outputs": [
    {
     "name": "stdout",
     "output_type": "stream",
     "text": [
      "enter the number4\n",
      "4\n",
      "8\n",
      "12\n",
      "16\n",
      "20\n",
      "24\n",
      "28\n",
      "32\n",
      "36\n",
      "40\n"
     ]
    }
   ],
   "source": [
    "#Implement a program that prints the multiplication table of a given number\n",
    "n=int(input(\"enter the number\"))\n",
    "for i in range(1,11):\n",
    "    print(i*n)"
   ]
  },
  {
   "cell_type": "code",
   "execution_count": 86,
   "id": "021ba5ff",
   "metadata": {},
   "outputs": [
    {
     "name": "stdout",
     "output_type": "stream",
     "text": [
      "Enter the number5\n",
      "120\n"
     ]
    }
   ],
   "source": [
    "#Write a program that calculates the factorial of a given number\n",
    "n=int(input(\"Enter the number\"))\n",
    "f=1\n",
    "for i in range(1,(n+1)):\n",
    "    f=f*i\n",
    "print(f)\n",
    "    "
   ]
  },
  {
   "cell_type": "code",
   "execution_count": 85,
   "id": "2ec5da32",
   "metadata": {},
   "outputs": [
    {
     "name": "stdout",
     "output_type": "stream",
     "text": [
      "3 ,5 ,7 ,9 ,11 ,13 ,15 ,17 ,19 ,21 ,23 ,25 ,27 ,29 ,31 ,33 ,35 ,37 ,39 ,41 ,43 ,45 ,47 ,49 ,"
     ]
    }
   ],
   "source": [
    "#Create a loop that prints all prime numbers between 1 and 50\n",
    "for i in range(2,50):\n",
    "    if i%2==0 and i%i==0:\n",
    "         pass\n",
    "    else:\n",
    "        print(i,end=' ,')"
   ]
  },
  {
   "cell_type": "code",
   "execution_count": 90,
   "id": "0e688223",
   "metadata": {},
   "outputs": [
    {
     "name": "stdout",
     "output_type": "stream",
     "text": [
      "number of words with more than 5 chaacters is 2\n"
     ]
    }
   ],
   "source": [
    "#Given a list of words, count the number of words with more than five characters\n",
    "l=['maheep','aman','prakhar']\n",
    "c=0\n",
    "for i in l:\n",
    "    if(len(i)>5):\n",
    "        c+=1\n",
    "print(\"number of words with more than 5 chaacters is {}\".format(c))\n"
   ]
  },
  {
   "cell_type": "code",
   "execution_count": 93,
   "id": "ef81289b",
   "metadata": {},
   "outputs": [
    {
     "name": "stdout",
     "output_type": "stream",
     "text": [
      "Enter the number453\n",
      "12\n"
     ]
    }
   ],
   "source": [
    "#Calculate the sum of digits of a given number.\n",
    "n=int(input(\"Enter the number\"))\n",
    "c=0\n",
    "while n!=0:\n",
    "    d=n%10\n",
    "    c+=d\n",
    "    n=n//10\n",
    "print(c)\n",
    "    "
   ]
  },
  {
   "cell_type": "code",
   "execution_count": 5,
   "id": "00164831",
   "metadata": {},
   "outputs": [
    {
     "data": {
      "text/plain": [
       "[2, 4, 6, 8, 10, 12, 14, 16, 18, 20]"
      ]
     },
     "execution_count": 5,
     "metadata": {},
     "output_type": "execute_result"
    }
   ],
   "source": [
    "[x for x in range(2,21,2)]\n",
    "    \n",
    "    "
   ]
  },
  {
   "cell_type": "code",
   "execution_count": 6,
   "id": "327b14bf",
   "metadata": {},
   "outputs": [
    {
     "data": {
      "text/plain": [
       "True"
      ]
     },
     "execution_count": 6,
     "metadata": {},
     "output_type": "execute_result"
    }
   ],
   "source": [
    "4<5"
   ]
  },
  {
   "cell_type": "code",
   "execution_count": 8,
   "id": "cc75e41a",
   "metadata": {},
   "outputs": [
    {
     "data": {
      "text/plain": [
       "3"
      ]
     },
     "execution_count": 8,
     "metadata": {},
     "output_type": "execute_result"
    }
   ],
   "source": [
    "10//3"
   ]
  },
  {
   "cell_type": "code",
   "execution_count": 13,
   "id": "4542254f",
   "metadata": {},
   "outputs": [
    {
     "name": "stdout",
     "output_type": "stream",
     "text": [
      "None\n"
     ]
    }
   ],
   "source": [
    "ex=[1,2,3,4,5]\n",
    "from random import shuffle\n",
    "r=shuffle(ex)\n",
    "print(r)\n"
   ]
  },
  {
   "cell_type": "code",
   "execution_count": null,
   "id": "d2a6304a",
   "metadata": {},
   "outputs": [],
   "source": []
  },
  {
   "cell_type": "code",
   "execution_count": null,
   "id": "6a9451d5",
   "metadata": {},
   "outputs": [],
   "source": []
  }
 ],
 "metadata": {
  "kernelspec": {
   "display_name": "Python 3 (ipykernel)",
   "language": "python",
   "name": "python3"
  },
  "language_info": {
   "codemirror_mode": {
    "name": "ipython",
    "version": 3
   },
   "file_extension": ".py",
   "mimetype": "text/x-python",
   "name": "python",
   "nbconvert_exporter": "python",
   "pygments_lexer": "ipython3",
   "version": "3.11.4"
  }
 },
 "nbformat": 4,
 "nbformat_minor": 5
}
