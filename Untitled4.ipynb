{
 "cells": [
  {
   "cell_type": "code",
   "execution_count": 1,
   "id": "0d17f650",
   "metadata": {},
   "outputs": [
    {
     "name": "stdout",
     "output_type": "stream",
     "text": [
      "100\n",
      "25.0\n"
     ]
    }
   ],
   "source": [
    "#Given a list of numbers, find the sum and average using built-in functions\n",
    "n=[10,20,30,40]\n",
    "total=sum(n)\n",
    "average=total/len(n)\n",
    "print(total)\n",
    "print(average)"
   ]
  },
  {
   "cell_type": "code",
   "execution_count": 6,
   "id": "ef480c13",
   "metadata": {},
   "outputs": [
    {
     "name": "stdout",
     "output_type": "stream",
     "text": [
      "['Apple', 'Mango', 'Guava']\n"
     ]
    }
   ],
   "source": [
    "#Create a list of fruits and add a new fruit to the list.\n",
    "fr=['Apple','Mango']\n",
    "cr='Guava'\n",
    "fr.append(cr)\n",
    "print(fr)"
   ]
  },
  {
   "cell_type": "code",
   "execution_count": 1,
   "id": "15e2bd04",
   "metadata": {},
   "outputs": [
    {
     "name": "stdout",
     "output_type": "stream",
     "text": [
      "First element 10\n",
      "Second element 20\n"
     ]
    }
   ],
   "source": [
    "#Access elements in a tuple using indexing.\n",
    "t=(10,20,30,40)\n",
    "f=t[0]\n",
    "s=t[1]\n",
    "print(\"First element\",f)\n",
    "print(\"Second element\",s)"
   ]
  },
  {
   "cell_type": "code",
   "execution_count": 10,
   "id": "096e2301",
   "metadata": {},
   "outputs": [
    {
     "name": "stdout",
     "output_type": "stream",
     "text": [
      "[10, 20, 30, 40, 15, 25, 35, 45]\n"
     ]
    }
   ],
   "source": [
    "#Given two lists of numbers, concatenate them into a single list\n",
    "l1=[10,20,30,40]\n",
    "l2=[15,25,35,45]\n",
    "l3=l1+l2\n",
    "print(l3)"
   ]
  },
  {
   "cell_type": "code",
   "execution_count": 11,
   "id": "29af5e57",
   "metadata": {},
   "outputs": [
    {
     "name": "stdout",
     "output_type": "stream",
     "text": [
      "Largest element 40\n",
      "Smallest element 10\n"
     ]
    }
   ],
   "source": [
    "#Write a program that finds the largest and smallest elements in a list\n",
    "l=[10,20,30,40]\n",
    "lar=max(l)\n",
    "sma=min(l)\n",
    "print(\"Largest element\",lar)\n",
    "print(\"Smallest element\",sma)"
   ]
  },
  {
   "cell_type": "code",
   "execution_count": 13,
   "id": "07a5ea11",
   "metadata": {},
   "outputs": [
    {
     "name": "stdout",
     "output_type": "stream",
     "text": [
      "[2, 4, 6, 8]\n"
     ]
    }
   ],
   "source": [
    "#Implement a function that takes a list of numbers and returns a new list with the squared values\n",
    "def sq(l):\n",
    "    a=list(map(lambda x:x*2,l))\n",
    "    return a\n",
    "l=[1,2,3,4]\n",
    "square=sq(l)\n",
    "print(square)\n",
    "        "
   ]
  },
  {
   "cell_type": "code",
   "execution_count": 2,
   "id": "8e068578",
   "metadata": {},
   "outputs": [
    {
     "name": "stdout",
     "output_type": "stream",
     "text": [
      "[3, 4, 5]\n"
     ]
    }
   ],
   "source": [
    "#Create a program that finds the common elements between two lists and stores them in a new list\n",
    "def int(list1,list2):\n",
    "    set1=set(list1)\n",
    "    set2=set(list2)\n",
    "    intersection=set1.intersection(set2)\n",
    "    intersection_list=list(intersection)\n",
    "    return intersection_list\n",
    "list1=[1,2,3,4,5]\n",
    "list2=[3,4,5,6,7]\n",
    "result=int(list1,list2)\n",
    "print(result)"
   ]
  },
  {
   "cell_type": "code",
   "execution_count": 15,
   "id": "31e68464",
   "metadata": {},
   "outputs": [
    {
     "name": "stdout",
     "output_type": "stream",
     "text": [
      "Length of the longest word: 5\n"
     ]
    }
   ],
   "source": [
    "#Given a list of words, find the word with the maximum length and its length\n",
    "def find_longest_word_length(sentence):\n",
    "    words = sentence.split()\n",
    "    longest_length = 0\n",
    "    for word in words:\n",
    "        word_length = len(word)\n",
    "        if word_length > longest_length:\n",
    "            longest_length = word_length\n",
    "    return longest_length\n",
    "sentence = \"The quick brown fox jumps over the lazy dog\"\n",
    "length = find_longest_word_length(sentence)\n",
    "print(\"Length of the longest word:\", length)\n",
    "\n"
   ]
  },
  {
   "cell_type": "code",
   "execution_count": 16,
   "id": "044bb642",
   "metadata": {},
   "outputs": [
    {
     "ename": "SyntaxError",
     "evalue": "invalid syntax (3208225781.py, line 9)",
     "output_type": "error",
     "traceback": [
      "\u001b[1;36m  Cell \u001b[1;32mIn[16], line 9\u001b[1;36m\u001b[0m\n\u001b[1;33m    for i,count i in element.items():\u001b[0m\n\u001b[1;37m                ^\u001b[0m\n\u001b[1;31mSyntaxError\u001b[0m\u001b[1;31m:\u001b[0m invalid syntax\n"
     ]
    }
   ],
   "source": [
    "#Write a Python program to count the occurrences of each element in a given list\n",
    "my_list=[1,2,2,3,3,3,4,4,4,4]\n",
    "element={}\n",
    "for i in my_list:\n",
    "    if i in element:\n",
    "        element[i]+=1\n",
    "    else:\n",
    "        element[i]=1\n",
    "for i,count i in element.items():\n",
    "    print(f\"{i}:{count}times\")"
   ]
  },
  {
   "cell_type": "code",
   "execution_count": 21,
   "id": "8b38969f",
   "metadata": {},
   "outputs": [
    {
     "name": "stdout",
     "output_type": "stream",
     "text": [
      "Unique Names:\n",
      "Sanchit\n",
      "Amit\n",
      "Aman\n",
      "Maheep\n"
     ]
    }
   ],
   "source": [
    "#Given a list of names, remove all duplicate names and print the unique names\n",
    "l=['Maheep','Aman','Amit','Aman','Sanchit','Amit']\n",
    "unique_names=list(set(l))\n",
    "print(\"Unique Names:\")\n",
    "for i in unique_names:\n",
    "    print(i)\n",
    "\n"
   ]
  },
  {
   "cell_type": "code",
   "execution_count": 23,
   "id": "83986bac",
   "metadata": {},
   "outputs": [
    {
     "name": "stdout",
     "output_type": "stream",
     "text": [
      "['fig', 'date', 'apple', 'banana', 'cherry']\n"
     ]
    }
   ],
   "source": [
    "#Create a function that takes a list of strings and returns the list sorted by the length of the strings\n",
    "def sortBylength(l):\n",
    "    sorted_list=sorted(l,key=len)\n",
    "    return sorted_list\n",
    "my_list=['apple','banana','cherry','date','fig']\n",
    "sorted_result=sortBylength(my_list)\n",
    "print(sorted_result)\n"
   ]
  },
  {
   "cell_type": "code",
   "execution_count": 24,
   "id": "f9a168c8",
   "metadata": {},
   "outputs": [
    {
     "name": "stdout",
     "output_type": "stream",
     "text": [
      "['fig', 'date', 'apple', 'banana', 'cherry']\n"
     ]
    }
   ],
   "source": [
    "#Write a program that checks if a given list is sorted in ascending order\n",
    "def sortBylength(l):\n",
    "    sorted_list=sorted(l,key=len)\n",
    "    return sorted_list\n",
    "my_list=['apple','banana','cherry','date','fig']\n",
    "sorted_result=sortBylength(my_list)\n",
    "print(sorted_result)"
   ]
  },
  {
   "cell_type": "code",
   "execution_count": 25,
   "id": "cceac8b3",
   "metadata": {},
   "outputs": [
    {
     "name": "stdout",
     "output_type": "stream",
     "text": [
      "[1, 2, 3, 4, 5, 6, 7]\n"
     ]
    }
   ],
   "source": [
    "#Implement a function that takes two lists and returns their union (all unique elements from both lists).\n",
    "def int(list1,list2):\n",
    "    set1=set(list1)\n",
    "    set2=set(list2)\n",
    "    union=set1.union(set2)\n",
    "    union_list=list(union)\n",
    "    return union_list\n",
    "list1=[1,2,3,4,5]\n",
    "list2=[3,4,5,6,7]\n",
    "result=int(list1,list2)\n",
    "print(result)"
   ]
  },
  {
   "cell_type": "code",
   "execution_count": 35,
   "id": "10ab5495",
   "metadata": {},
   "outputs": [
    {
     "name": "stdout",
     "output_type": "stream",
     "text": [
      "This is the new function       It allows us to write in a particular fileThis will add this line  This will add this line\n"
     ]
    }
   ],
   "source": [
    "file = open('new_text_file.txt','r')\n",
    " \n",
    "# This will print every line one by one in the file\n",
    "for each in file:\n",
    "    print (each)"
   ]
  },
  {
   "cell_type": "code",
   "execution_count": 39,
   "id": "98eaa93c",
   "metadata": {},
   "outputs": [
    {
     "name": "stdout",
     "output_type": "stream",
     "text": [
      "This is the new function       It allows us to write in a particular fileThis will add this line  This will add this line  This will add this line in the\n"
     ]
    }
   ],
   "source": [
    "\n",
    "# Python code to illustrate read() mode\n",
    "file = open(\"new_text_file.txt\", \"r\")\n",
    "print (file.read())"
   ]
  },
  {
   "cell_type": "code",
   "execution_count": 38,
   "id": "aeeeb81f",
   "metadata": {},
   "outputs": [
    {
     "name": "stdout",
     "output_type": "stream",
     "text": [
      "This is the new function       It allows us to write in a particular fileThis will add this line  This will add this line  This will add this line in the\n"
     ]
    }
   ],
   "source": [
    "\n",
    "# Python code to illustrate with()\n",
    "with open(\"new_text_file.txt\") as file: \n",
    "    data = file.read()\n",
    " \n",
    "print(data)"
   ]
  },
  {
   "cell_type": "code",
   "execution_count": 29,
   "id": "64e67a87",
   "metadata": {},
   "outputs": [],
   "source": [
    "# Python code to create a file\n",
    "file = open('new_text_file.txt','w')\n",
    "file.write(\"This is the new function\")\n",
    "file.write(\"       It allows us to write in a particular file\")\n",
    "file.close()"
   ]
  },
  {
   "cell_type": "code",
   "execution_count": 37,
   "id": "d135a5a8",
   "metadata": {},
   "outputs": [],
   "source": [
    "file = open('new_text_file.txt', 'a')\n",
    "file.write(\"  This will add this line in the\")\n",
    "file.close()\n"
   ]
  },
  {
   "cell_type": "code",
   "execution_count": 40,
   "id": "417e1a81",
   "metadata": {},
   "outputs": [
    {
     "name": "stdout",
     "output_type": "stream",
     "text": [
      "This is the text file for the file handling\n",
      "\n",
      "operations are \n",
      "\n",
      "reading \n",
      "\n",
      "writing\n",
      "\n",
      "appending\n",
      "\n"
     ]
    }
   ],
   "source": [
    "file = open('f.txt','r')\n",
    " \n",
    "# This will print every line one by one in the file\n",
    "for each in file:\n",
    "    print (each)"
   ]
  },
  {
   "cell_type": "code",
   "execution_count": 49,
   "id": "5b56bfe6",
   "metadata": {},
   "outputs": [
    {
     "name": "stdout",
     "output_type": "stream",
     "text": [
      "This is the new file       It allows us to write in a particular file      maheep chuahn\n"
     ]
    }
   ],
   "source": [
    "file = open(\"f.txt\", \"r\")\n",
    "print (file.read())"
   ]
  },
  {
   "cell_type": "code",
   "execution_count": 42,
   "id": "a211808e",
   "metadata": {},
   "outputs": [],
   "source": [
    "file = open('f.txt','w')\n",
    "file.write(\"This is the new file\")\n",
    "file.write(\"       It allows us to write in a particular file\")\n",
    "file.close()"
   ]
  },
  {
   "cell_type": "code",
   "execution_count": 48,
   "id": "753e55ba",
   "metadata": {},
   "outputs": [],
   "source": [
    "file = open('f.txt', 'a')\n",
    "file.write(\"      maheep chuahn\")\n",
    "file.close()"
   ]
  },
  {
   "cell_type": "code",
   "execution_count": 50,
   "id": "0b372bdb",
   "metadata": {},
   "outputs": [],
   "source": [
    "file = open('fi.txt','w')\n",
    "file.write(\"This is the new file\")\n",
    "file.write(\"       It allows us to write in a particular file\")\n",
    "file.close()"
   ]
  },
  {
   "cell_type": "code",
   "execution_count": 51,
   "id": "d62d196f",
   "metadata": {},
   "outputs": [
    {
     "name": "stdout",
     "output_type": "stream",
     "text": [
      "This is the new file       It allows us to write in a particular file\n"
     ]
    }
   ],
   "source": [
    "file = open(\"fi.txt\", \"r\")\n",
    "print (file.read())"
   ]
  },
  {
   "cell_type": "code",
   "execution_count": 1,
   "id": "67bdcdd0",
   "metadata": {},
   "outputs": [
    {
     "name": "stdout",
     "output_type": "stream",
     "text": [
      "Maheep \n",
      "\n",
      "22\n",
      "\n",
      "new file\n",
      "\n"
     ]
    }
   ],
   "source": [
    "file=open(\"untitled.txt\",\"r\")\n",
    "for each in file:\n",
    "    print(each)\n",
    "    "
   ]
  },
  {
   "cell_type": "code",
   "execution_count": 2,
   "id": "a64f81c7",
   "metadata": {},
   "outputs": [
    {
     "name": "stdout",
     "output_type": "stream",
     "text": [
      "Maheep \n",
      "22\n",
      "new file\n",
      "\n"
     ]
    }
   ],
   "source": [
    "file=open(\"untitled.txt\",\"r\")\n",
    "print(file.read())\n",
    "\n",
    "    "
   ]
  },
  {
   "cell_type": "code",
   "execution_count": 3,
   "id": "3a1d948d",
   "metadata": {},
   "outputs": [],
   "source": [
    "file=open(\"untitled.txt\",\"w\")\n",
    "file.write(\"Sasirekha\")\n",
    "file.close()\n"
   ]
  },
  {
   "cell_type": "code",
   "execution_count": 4,
   "id": "3023cf16",
   "metadata": {},
   "outputs": [
    {
     "name": "stdout",
     "output_type": "stream",
     "text": [
      "Sasirekha\n"
     ]
    }
   ],
   "source": [
    "file=open(\"untitled.txt\",\"r\")\n",
    "print(file.read())\n"
   ]
  },
  {
   "cell_type": "code",
   "execution_count": 5,
   "id": "249c48e4",
   "metadata": {},
   "outputs": [],
   "source": [
    "file=open(\"untitled.txt\",\"a\")\n",
    "file.write(\"Maheep\")\n",
    "file.close()\n"
   ]
  },
  {
   "cell_type": "code",
   "execution_count": 6,
   "id": "0232a4c4",
   "metadata": {},
   "outputs": [
    {
     "name": "stdout",
     "output_type": "stream",
     "text": [
      "SasirekhaMaheep\n"
     ]
    }
   ],
   "source": [
    "file=open(\"untitled.txt\",\"r\")\n",
    "print(file.read())\n"
   ]
  },
  {
   "cell_type": "code",
   "execution_count": null,
   "id": "a46318d8",
   "metadata": {},
   "outputs": [],
   "source": [
    "\n",
    "\n",
    "\n"
   ]
  },
  {
   "cell_type": "code",
   "execution_count": 2,
   "id": "e21c2637",
   "metadata": {},
   "outputs": [],
   "source": [
    "\n",
    "\n",
    "\n",
    "x, y = 5, 11\n"
   ]
  },
  {
   "cell_type": "code",
   "execution_count": 3,
   "id": "35ce226a",
   "metadata": {},
   "outputs": [],
   "source": [
    "a, b = (5, 11)"
   ]
  },
  {
   "cell_type": "code",
   "execution_count": 4,
   "id": "a0c30c6f",
   "metadata": {},
   "outputs": [],
   "source": [
    "my_dict = {\"name\": \"Bob\", \"age\": 25}\n",
    "x, y = my_dict"
   ]
  },
  {
   "cell_type": "code",
   "execution_count": 5,
   "id": "2479477a",
   "metadata": {},
   "outputs": [
    {
     "data": {
      "text/plain": [
       "'name'"
      ]
     },
     "execution_count": 5,
     "metadata": {},
     "output_type": "execute_result"
    }
   ],
   "source": [
    "x"
   ]
  },
  {
   "cell_type": "code",
   "execution_count": 6,
   "id": "69426987",
   "metadata": {},
   "outputs": [
    {
     "data": {
      "text/plain": [
       "'age'"
      ]
     },
     "execution_count": 6,
     "metadata": {},
     "output_type": "execute_result"
    }
   ],
   "source": [
    "y"
   ]
  },
  {
   "cell_type": "code",
   "execution_count": 7,
   "id": "8d3bcbeb",
   "metadata": {},
   "outputs": [],
   "source": [
    "my_dict = {\"name\": \"Bob\", \"age\": 25}\n",
    "x, y = my_dict.values() "
   ]
  },
  {
   "cell_type": "code",
   "execution_count": 8,
   "id": "e5e67947",
   "metadata": {},
   "outputs": [
    {
     "data": {
      "text/plain": [
       "'Bob'"
      ]
     },
     "execution_count": 8,
     "metadata": {},
     "output_type": "execute_result"
    }
   ],
   "source": [
    "x"
   ]
  },
  {
   "cell_type": "code",
   "execution_count": 9,
   "id": "c9e56fb4",
   "metadata": {},
   "outputs": [
    {
     "data": {
      "text/plain": [
       "25"
      ]
     },
     "execution_count": 9,
     "metadata": {},
     "output_type": "execute_result"
    }
   ],
   "source": [
    "y"
   ]
  },
  {
   "cell_type": "code",
   "execution_count": 11,
   "id": "0851a0a8",
   "metadata": {},
   "outputs": [
    {
     "name": "stdout",
     "output_type": "stream",
     "text": [
      "Name: Bob, Age: 42, Profession: Mechanic\n",
      "Name: James, Age: 24, Profession: Artist\n",
      "Name: Harry, Age: 32, Profession: Lecturer\n"
     ]
    }
   ],
   "source": [
    "people = [\n",
    "\t(\"Bob\", 42, \"Mechanic\"),\n",
    "\t(\"James\", 24, \"Artist\"),\n",
    "\t(\"Harry\", 32, \"Lecturer\")\n",
    "]\n",
    "for name, age, profession in people:\n",
    "\tprint(f\"Name: {name}, Age: {age}, Profession: {profession}\")"
   ]
  },
  {
   "cell_type": "code",
   "execution_count": 12,
   "id": "77c1c4b4",
   "metadata": {},
   "outputs": [
    {
     "name": "stdout",
     "output_type": "stream",
     "text": [
      "Bob Mechanic\n"
     ]
    }
   ],
   "source": [
    "person = (\"Bob\", 42, \"Mechanic\")\n",
    "name, _, profession = person\n",
    "\n",
    "print(name, profession)"
   ]
  },
  {
   "cell_type": "code",
   "execution_count": 13,
   "id": "691770a0",
   "metadata": {},
   "outputs": [
    {
     "name": "stdout",
     "output_type": "stream",
     "text": [
      "1\n",
      "[2, 3, 4, 5]\n"
     ]
    }
   ],
   "source": [
    "head, *tail = [1, 2, 3, 4, 5]\n",
    "\n",
    "print(head) \n",
    "print(tail)"
   ]
  },
  {
   "cell_type": "code",
   "execution_count": 14,
   "id": "1d88a334",
   "metadata": {},
   "outputs": [
    {
     "name": "stdout",
     "output_type": "stream",
     "text": [
      "[1, 2, 3, 4]\n",
      "5\n"
     ]
    }
   ],
   "source": [
    "*head, tail = [1, 2, 3, 4, 5]\n",
    "\n",
    "print(head)  \n",
    "print(tail) "
   ]
  },
  {
   "cell_type": "code",
   "execution_count": 15,
   "id": "25620bd1",
   "metadata": {},
   "outputs": [
    {
     "name": "stdout",
     "output_type": "stream",
     "text": [
      "1\n",
      "[2, 3, 4]\n",
      "5\n"
     ]
    }
   ],
   "source": [
    "\n",
    "head, *middle, tail = [1, 2, 3, 4, 5]\n",
    "\n",
    "print(head)    \n",
    "print(middle)  \n",
    "print(tail)   "
   ]
  },
  {
   "cell_type": "code",
   "execution_count": 16,
   "id": "fac59e0e",
   "metadata": {},
   "outputs": [
    {
     "name": "stdout",
     "output_type": "stream",
     "text": [
      "4863.43\n",
      "4863.43\n"
     ]
    }
   ],
   "source": [
    "x = 4863.4343091         \n",
    "\n",
    "print(f\"{x:.6}\")          \n",
    "print(\"{:.6}\".format(x))"
   ]
  },
  {
   "cell_type": "code",
   "execution_count": 17,
   "id": "354ed558",
   "metadata": {},
   "outputs": [
    {
     "name": "stdout",
     "output_type": "stream",
     "text": [
      "4.86e+03\n"
     ]
    }
   ],
   "source": [
    "x = 4863.4343091\n",
    "\n",
    "print(f\"{x:.3}\")"
   ]
  },
  {
   "cell_type": "code",
   "execution_count": 18,
   "id": "a2f7d5f2",
   "metadata": {},
   "outputs": [
    {
     "name": "stdout",
     "output_type": "stream",
     "text": [
      "4863.434\n"
     ]
    }
   ],
   "source": [
    "x = 4863.4343091\n",
    "\n",
    "print(f\"{x:.3f}\")"
   ]
  },
  {
   "cell_type": "code",
   "execution_count": 19,
   "id": "f8c37607",
   "metadata": {},
   "outputs": [
    {
     "name": "stdout",
     "output_type": "stream",
     "text": [
      "You got 76.67% correct!\n"
     ]
    }
   ],
   "source": [
    "questions = 30\n",
    "correct_answers = 23\n",
    "\n",
    "print(f\"You got {correct_answers / questions :.2%} correct!\")"
   ]
  },
  {
   "cell_type": "code",
   "execution_count": 20,
   "id": "6870431a",
   "metadata": {},
   "outputs": [
    {
     "name": "stdout",
     "output_type": "stream",
     "text": [
      "4,863.434\n",
      "4_863.434\n"
     ]
    }
   ],
   "source": [
    "x = 4863.4343091\n",
    "\n",
    "print(f\"{x:,.3f}\") \n",
    "print(f\"{x:_.3f}\")"
   ]
  },
  {
   "cell_type": "code",
   "execution_count": null,
   "id": "66f6afe1",
   "metadata": {},
   "outputs": [],
   "source": []
  }
 ],
 "metadata": {
  "kernelspec": {
   "display_name": "Python 3 (ipykernel)",
   "language": "python",
   "name": "python3"
  },
  "language_info": {
   "codemirror_mode": {
    "name": "ipython",
    "version": 3
   },
   "file_extension": ".py",
   "mimetype": "text/x-python",
   "name": "python",
   "nbconvert_exporter": "python",
   "pygments_lexer": "ipython3",
   "version": "3.11.4"
  }
 },
 "nbformat": 4,
 "nbformat_minor": 5
}
