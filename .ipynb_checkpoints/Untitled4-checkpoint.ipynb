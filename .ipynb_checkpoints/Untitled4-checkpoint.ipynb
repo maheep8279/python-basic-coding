{
 "cells": [
  {
   "cell_type": "code",
   "execution_count": 1,
   "id": "0d17f650",
   "metadata": {},
   "outputs": [
    {
     "name": "stdout",
     "output_type": "stream",
     "text": [
      "100\n",
      "25.0\n"
     ]
    }
   ],
   "source": [
    "#Given a list of numbers, find the sum and average using built-in functions\n",
    "n=[10,20,30,40]\n",
    "total=sum(n)\n",
    "average=total/len(n)\n",
    "print(total)\n",
    "print(average)"
   ]
  },
  {
   "cell_type": "code",
   "execution_count": 6,
   "id": "ef480c13",
   "metadata": {},
   "outputs": [
    {
     "name": "stdout",
     "output_type": "stream",
     "text": [
      "['Apple', 'Mango', 'Guava']\n"
     ]
    }
   ],
   "source": [
    "#Create a list of fruits and add a new fruit to the list.\n",
    "fr=['Apple','Mango']\n",
    "cr='Guava'\n",
    "fr.append(cr)\n",
    "print(fr)"
   ]
  },
  {
   "cell_type": "code",
   "execution_count": 1,
   "id": "15e2bd04",
   "metadata": {},
   "outputs": [
    {
     "name": "stdout",
     "output_type": "stream",
     "text": [
      "First element 10\n",
      "Second element 20\n"
     ]
    }
   ],
   "source": [
    "#Access elements in a tuple using indexing.\n",
    "t=(10,20,30,40)\n",
    "f=t[0]\n",
    "s=t[1]\n",
    "print(\"First element\",f)\n",
    "print(\"Second element\",s)"
   ]
  },
  {
   "cell_type": "code",
   "execution_count": 10,
   "id": "096e2301",
   "metadata": {},
   "outputs": [
    {
     "name": "stdout",
     "output_type": "stream",
     "text": [
      "[10, 20, 30, 40, 15, 25, 35, 45]\n"
     ]
    }
   ],
   "source": [
    "#Given two lists of numbers, concatenate them into a single list\n",
    "l1=[10,20,30,40]\n",
    "l2=[15,25,35,45]\n",
    "l3=l1+l2\n",
    "print(l3)"
   ]
  },
  {
   "cell_type": "code",
   "execution_count": 11,
   "id": "29af5e57",
   "metadata": {},
   "outputs": [
    {
     "name": "stdout",
     "output_type": "stream",
     "text": [
      "Largest element 40\n",
      "Smallest element 10\n"
     ]
    }
   ],
   "source": [
    "#Write a program that finds the largest and smallest elements in a list\n",
    "l=[10,20,30,40]\n",
    "lar=max(l)\n",
    "sma=min(l)\n",
    "print(\"Largest element\",lar)\n",
    "print(\"Smallest element\",sma)"
   ]
  },
  {
   "cell_type": "code",
   "execution_count": 13,
   "id": "07a5ea11",
   "metadata": {},
   "outputs": [
    {
     "name": "stdout",
     "output_type": "stream",
     "text": [
      "[2, 4, 6, 8]\n"
     ]
    }
   ],
   "source": [
    "#Implement a function that takes a list of numbers and returns a new list with the squared values\n",
    "def sq(l):\n",
    "    a=list(map(lambda x:x*2,l))\n",
    "    return a\n",
    "l=[1,2,3,4]\n",
    "square=sq(l)\n",
    "print(square)\n",
    "        "
   ]
  },
  {
   "cell_type": "code",
   "execution_count": 2,
   "id": "8e068578",
   "metadata": {},
   "outputs": [
    {
     "name": "stdout",
     "output_type": "stream",
     "text": [
      "[3, 4, 5]\n"
     ]
    }
   ],
   "source": [
    "#Create a program that finds the common elements between two lists and stores them in a new list\n",
    "def int(list1,list2):\n",
    "    set1=set(list1)\n",
    "    set2=set(list2)\n",
    "    intersection=set1.intersection(set2)\n",
    "    intersection_list=list(intersection)\n",
    "    return intersection_list\n",
    "list1=[1,2,3,4,5]\n",
    "list2=[3,4,5,6,7]\n",
    "result=int(list1,list2)\n",
    "print(result)"
   ]
  },
  {
   "cell_type": "code",
   "execution_count": 15,
   "id": "31e68464",
   "metadata": {},
   "outputs": [
    {
     "name": "stdout",
     "output_type": "stream",
     "text": [
      "Length of the longest word: 5\n"
     ]
    }
   ],
   "source": [
    "#Given a list of words, find the word with the maximum length and its length\n",
    "def find_longest_word_length(sentence):\n",
    "    words = sentence.split()\n",
    "    longest_length = 0\n",
    "    for word in words:\n",
    "        word_length = len(word)\n",
    "        if word_length > longest_length:\n",
    "            longest_length = word_length\n",
    "    return longest_length\n",
    "sentence = \"The quick brown fox jumps over the lazy dog\"\n",
    "length = find_longest_word_length(sentence)\n",
    "print(\"Length of the longest word:\", length)\n",
    "\n"
   ]
  },
  {
   "cell_type": "code",
   "execution_count": 16,
   "id": "044bb642",
   "metadata": {},
   "outputs": [
    {
     "ename": "SyntaxError",
     "evalue": "invalid syntax (3208225781.py, line 9)",
     "output_type": "error",
     "traceback": [
      "\u001b[1;36m  Cell \u001b[1;32mIn[16], line 9\u001b[1;36m\u001b[0m\n\u001b[1;33m    for i,count i in element.items():\u001b[0m\n\u001b[1;37m                ^\u001b[0m\n\u001b[1;31mSyntaxError\u001b[0m\u001b[1;31m:\u001b[0m invalid syntax\n"
     ]
    }
   ],
   "source": [
    "#Write a Python program to count the occurrences of each element in a given list\n",
    "my_list=[1,2,2,3,3,3,4,4,4,4]\n",
    "element={}\n",
    "for i in my_list:\n",
    "    if i in element:\n",
    "        element[i]+=1\n",
    "    else:\n",
    "        element[i]=1\n",
    "for i,count i in element.items():\n",
    "    print(f\"{i}:{count}times\")"
   ]
  },
  {
   "cell_type": "code",
   "execution_count": 21,
   "id": "8b38969f",
   "metadata": {},
   "outputs": [
    {
     "name": "stdout",
     "output_type": "stream",
     "text": [
      "Unique Names:\n",
      "Sanchit\n",
      "Amit\n",
      "Aman\n",
      "Maheep\n"
     ]
    }
   ],
   "source": [
    "#Given a list of names, remove all duplicate names and print the unique names\n",
    "l=['Maheep','Aman','Amit','Aman','Sanchit','Amit']\n",
    "unique_names=list(set(l))\n",
    "print(\"Unique Names:\")\n",
    "for i in unique_names:\n",
    "    print(i)\n",
    "\n"
   ]
  },
  {
   "cell_type": "code",
   "execution_count": 23,
   "id": "83986bac",
   "metadata": {},
   "outputs": [
    {
     "name": "stdout",
     "output_type": "stream",
     "text": [
      "['fig', 'date', 'apple', 'banana', 'cherry']\n"
     ]
    }
   ],
   "source": [
    "#Create a function that takes a list of strings and returns the list sorted by the length of the strings\n",
    "def sortBylength(l):\n",
    "    sorted_list=sorted(l,key=len)\n",
    "    return sorted_list\n",
    "my_list=['apple','banana','cherry','date','fig']\n",
    "sorted_result=sortBylength(my_list)\n",
    "print(sorted_result)\n"
   ]
  },
  {
   "cell_type": "code",
   "execution_count": 24,
   "id": "f9a168c8",
   "metadata": {},
   "outputs": [
    {
     "name": "stdout",
     "output_type": "stream",
     "text": [
      "['fig', 'date', 'apple', 'banana', 'cherry']\n"
     ]
    }
   ],
   "source": [
    "#Write a program that checks if a given list is sorted in ascending order\n",
    "def sortBylength(l):\n",
    "    sorted_list=sorted(l,key=len)\n",
    "    return sorted_list\n",
    "my_list=['apple','banana','cherry','date','fig']\n",
    "sorted_result=sortBylength(my_list)\n",
    "print(sorted_result)"
   ]
  },
  {
   "cell_type": "code",
   "execution_count": 25,
   "id": "cceac8b3",
   "metadata": {},
   "outputs": [
    {
     "name": "stdout",
     "output_type": "stream",
     "text": [
      "[1, 2, 3, 4, 5, 6, 7]\n"
     ]
    }
   ],
   "source": [
    "#Implement a function that takes two lists and returns their union (all unique elements from both lists).\n",
    "def int(list1,list2):\n",
    "    set1=set(list1)\n",
    "    set2=set(list2)\n",
    "    union=set1.union(set2)\n",
    "    union_list=list(union)\n",
    "    return union_list\n",
    "list1=[1,2,3,4,5]\n",
    "list2=[3,4,5,6,7]\n",
    "result=int(list1,list2)\n",
    "print(result)"
   ]
  },
  {
   "cell_type": "code",
   "execution_count": 8,
   "id": "10ab5495",
   "metadata": {},
   "outputs": [
    {
     "name": "stdout",
     "output_type": "stream",
     "text": [
      "Maheep Chauhan\n",
      "\n",
      "22\n",
      "\n",
      "UP\n",
      "\n"
     ]
    }
   ],
   "source": [
    "file = open('new_text_file.txt','r')\n",
    " \n",
    "# This will print every line one by one in the file\n",
    "for each in file:\n",
    "    print (each)"
   ]
  },
  {
   "cell_type": "code",
   "execution_count": 9,
   "id": "d5bbbb34",
   "metadata": {},
   "outputs": [
    {
     "name": "stdout",
     "output_type": "stream",
     "text": [
      "Maheep Chauhan\n",
      "22\n",
      "UP\n",
      "\n"
     ]
    }
   ],
   "source": [
    "\n",
    "# Python code to illustrate read() mode\n",
    "file = open(\"new_text_file.txt\", \"r\")\n",
    "print (file.read())"
   ]
  },
  {
   "cell_type": "code",
   "execution_count": 11,
   "id": "12a507f6",
   "metadata": {},
   "outputs": [
    {
     "name": "stdout",
     "output_type": "stream",
     "text": [
      "Maheep Chauhan\n",
      "22\n",
      "UP\n",
      "\n"
     ]
    }
   ],
   "source": [
    "\n",
    "# Python code to illustrate with()\n",
    "with open(\"new_text_file.txt\") as file: \n",
    "    data = file.read()\n",
    " \n",
    "print(data)"
   ]
  },
  {
   "cell_type": "code",
   "execution_count": null,
   "id": "7da0f3d7",
   "metadata": {},
   "outputs": [],
   "source": []
  }
 ],
 "metadata": {
  "kernelspec": {
   "display_name": "Python 3 (ipykernel)",
   "language": "python",
   "name": "python3"
  },
  "language_info": {
   "codemirror_mode": {
    "name": "ipython",
    "version": 3
   },
   "file_extension": ".py",
   "mimetype": "text/x-python",
   "name": "python",
   "nbconvert_exporter": "python",
   "pygments_lexer": "ipython3",
   "version": "3.11.4"
  }
 },
 "nbformat": 4,
 "nbformat_minor": 5
}
