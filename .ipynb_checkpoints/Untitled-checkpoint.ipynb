{
 "cells": [
  {
   "cell_type": "code",
   "execution_count": 14,
   "id": "154aef34",
   "metadata": {
    "scrolled": false
   },
   "outputs": [
    {
     "name": "stdout",
     "output_type": "stream",
     "text": [
      "Hello, World!\n"
     ]
    }
   ],
   "source": [
    "#Write a Python program to print \"Hello, World!\"\n",
    "print(\"Hello, World!\")\n"
   ]
  },
  {
   "cell_type": "code",
   "execution_count": 15,
   "id": "c4576206",
   "metadata": {},
   "outputs": [
    {
     "name": "stdout",
     "output_type": "stream",
     "text": [
      "Enter the first number: 3\n",
      "Enter the second number: 4\n",
      "The sum of 3.0 and 4.0 is: 7.0\n"
     ]
    }
   ],
   "source": [
    "# Calculate the sum of two numbers entered by the user.\n",
    "num1 = float(input(\"Enter the first number: \"))\n",
    "num2 = float(input(\"Enter the second number: \"))\n",
    "result=num1+num2\n",
    "print(\"The sum of {} and {} is: {}\".format(num1, num2, result))"
   ]
  },
  {
   "cell_type": "code",
   "execution_count": 16,
   "id": "ab14ca37",
   "metadata": {},
   "outputs": [
    {
     "name": "stdout",
     "output_type": "stream",
     "text": [
      "Enter temperature in Celsius: 5.7\n",
      "5.7°C is equal to 42.260000000000005°F\n"
     ]
    }
   ],
   "source": [
    "#Convert temperature from Celsius to Fahrenheit.\n",
    "celsius = float(input(\"Enter temperature in Celsius: \"))\n",
    "fahrenheit = (celsius * 9/5) + 32\n",
    "print(\"{}°C is equal to {}°F\".format(celsius, fahrenheit))"
   ]
  },
  {
   "cell_type": "code",
   "execution_count": 23,
   "id": "15b95034",
   "metadata": {},
   "outputs": [
    {
     "name": "stdout",
     "output_type": "stream",
     "text": [
      "Enter the length 5\n",
      "Enter the breadth 4\n",
      "Area of rectagle is 20\n"
     ]
    }
   ],
   "source": [
    "#Write a Python program to calculate the area of a rectangle given its length and width\n",
    "a=int(input(\"Enter the length \"))\n",
    "b=int(input(\"Enter the breadth \"))\n",
    "print(\"Area of rectagle is {}\".format (a*b))"
   ]
  },
  {
   "cell_type": "code",
   "execution_count": 28,
   "id": "32379f0b",
   "metadata": {},
   "outputs": [
    {
     "name": "stdout",
     "output_type": "stream",
     "text": [
      "Enter the username Maheep\n",
      "Enter the age 23\n",
      "my name is Maheep and age is 23\n"
     ]
    }
   ],
   "source": [
    "#Create a program that takes a user's name and age as input and prints a greeting message\n",
    "username=str(input(\"Enter the username \"))\n",
    "age=int(input(\"Enter the age \"))\n",
    "print(\"my name is {} and age is {}\".format(username,age))\n",
    "\n",
    "\n"
   ]
  },
  {
   "cell_type": "code",
   "execution_count": 29,
   "id": "fea4ef92",
   "metadata": {},
   "outputs": [
    {
     "name": "stdout",
     "output_type": "stream",
     "text": [
      "Enter a number: 65\n",
      "65 is odd.\n"
     ]
    }
   ],
   "source": [
    "# Write a program to check if a number is even or odd\n",
    "number = int(input(\"Enter a number: \"))\n",
    "if number % 2 == 0:\n",
    "    print(f\"{number} is even.\")\n",
    "else:\n",
    "    print(f\"{number} is odd.\")"
   ]
  },
  {
   "cell_type": "code",
   "execution_count": 30,
   "id": "6bddfd4d",
   "metadata": {},
   "outputs": [
    {
     "name": "stdout",
     "output_type": "stream",
     "text": [
      "Maximum value: 30\n",
      "Minimum value: 3\n"
     ]
    }
   ],
   "source": [
    "# Given a list of numbers, find the maximum and minimum values\n",
    "numbers = [10, 5, 25, 3, 15, 30]\n",
    "max_value = max(numbers)\n",
    "min_value = min(numbers)\n",
    "print(f\"Maximum value: {max_value}\")\n",
    "print(f\"Minimum value: {min_value}\")"
   ]
  },
  {
   "cell_type": "code",
   "execution_count": 31,
   "id": "79f88c9c",
   "metadata": {},
   "outputs": [],
   "source": [
    "#Create a Python program to check if a given string is a palindrome\n"
   ]
  },
  {
   "cell_type": "code",
   "execution_count": 34,
   "id": "9d0ac983",
   "metadata": {},
   "outputs": [
    {
     "name": "stdout",
     "output_type": "stream",
     "text": [
      "Enter the pricipal 1000\n",
      "Enter the rate 10\n",
      "Enter the rate 1\n",
      "The compound interest is 100.0\n"
     ]
    }
   ],
   "source": [
    "# Calculate the compound interest for a given principal amount, interest rate, and time period\n",
    "p=int(input(\"Enter the pricipal \"))\n",
    "r=int(input(\"Enter the rate \"))\n",
    "t=int(input(\"Enter the rate \"))\n",
    "si=p*r*t/100\n",
    "print(f\"The compound interest is {si}\")\n"
   ]
  },
  {
   "cell_type": "code",
   "execution_count": 40,
   "id": "4f2075de",
   "metadata": {},
   "outputs": [
    {
     "name": "stdout",
     "output_type": "stream",
     "text": [
      "Enter the days345\n",
      "0\n",
      "49\n",
      "2\n"
     ]
    }
   ],
   "source": [
    "# Write a program that converts a given number of days into years, weeks, and days\n",
    "\n",
    "d = int(input(\"Enter the days\"))\n",
    "y = d // 365\n",
    "print(y)\n",
    "da = d % 365\n",
    "w = da // 7\n",
    "print(w)\n",
    "daa = da % 7\n",
    "print(daa)"
   ]
  },
  {
   "cell_type": "code",
   "execution_count": 53,
   "id": "32b181d1",
   "metadata": {},
   "outputs": [
    {
     "name": "stdout",
     "output_type": "stream",
     "text": [
      "Sum of positive numbers: 16\n"
     ]
    }
   ],
   "source": [
    "# Given a list of integers, find the sum of all positive numbers\n",
    "numbers = [1, -2, 3, -4, 5, -6, 7, -8]\n",
    "sum_positive = 0\n",
    "for num in numbers:\n",
    "    if num > 0:\n",
    "        sum_positive += num\n",
    "print(\"Sum of positive numbers:\", sum_positive)"
   ]
  },
  {
   "cell_type": "code",
   "execution_count": 54,
   "id": "8f3da4ec",
   "metadata": {},
   "outputs": [
    {
     "name": "stdout",
     "output_type": "stream",
     "text": [
      "Enter a sentence: hello world\n",
      "Number of words in the sentence: 2\n"
     ]
    }
   ],
   "source": [
    "# Create a program that takes a sentence as input and counts the number of words in it\n",
    "sentence = input(\"Enter a sentence: \")\n",
    "words = sentence.split()\n",
    "count = len(words)\n",
    "print(\"Number of words in the sentence:\", count)\n"
   ]
  },
  {
   "cell_type": "code",
   "execution_count": 55,
   "id": "58e37809",
   "metadata": {},
   "outputs": [
    {
     "name": "stdout",
     "output_type": "stream",
     "text": [
      "Enter the value of a: 23\n",
      "Enter the value of b: 65\n",
      "\n",
      "Swapped values:\n",
      "a = 65\n",
      "b = 23\n"
     ]
    }
   ],
   "source": [
    "# Implement a program that swaps the values of two variables\n",
    "a = input(\"Enter the value of a: \")\n",
    "b = input(\"Enter the value of b: \")\n",
    "temp = a\n",
    "a = b\n",
    "b = temp\n",
    "print(\"\\nSwapped values:\")\n",
    "print(\"a =\", a)\n",
    "print(\"b =\", b)"
   ]
  },
  {
   "cell_type": "code",
   "execution_count": 57,
   "id": "64e6c665",
   "metadata": {},
   "outputs": [
    {
     "name": "stdout",
     "output_type": "stream",
     "text": [
      "21\n",
      "5.25\n"
     ]
    }
   ],
   "source": [
    "# Given a list of numbers, find the sum and average'\n",
    "my_list=[2,7,8,4]\n",
    "total_sum = sum(my_list)\n",
    "average=total_sum/(len(my_list))\n",
    "print (total_sum)\n",
    "print (average)\n"
   ]
  },
  {
   "cell_type": "code",
   "execution_count": 58,
   "id": "287e320c",
   "metadata": {},
   "outputs": [
    {
     "name": "stdout",
     "output_type": "stream",
     "text": [
      "Enter temperature in Celsius: 45\n",
      "45.0 degrees Celsius is equal to 318.15 Kelvin\n"
     ]
    }
   ],
   "source": [
    "#Create a program that takes a temperature in Celsius and converts it to Kelvin\n",
    "celsius = float(input(\"Enter temperature in Celsius: \"))\n",
    "kelvin = celsius + 273.15\n",
    "print(f\"{celsius} degrees Celsius is equal to {kelvin} Kelvin\")\n"
   ]
  },
  {
   "cell_type": "code",
   "execution_count": 59,
   "id": "05e69209",
   "metadata": {},
   "outputs": [],
   "source": [
    "#Implement a program that checks if a given string is a palindrome"
   ]
  },
  {
   "cell_type": "code",
   "execution_count": 61,
   "id": "530c34f7",
   "metadata": {},
   "outputs": [
    {
     "name": "stdout",
     "output_type": "stream",
     "text": [
      "Maheep prakhar Aman Sanchit\n"
     ]
    }
   ],
   "source": [
    "#Given a list of names, concatenate them into a single string separated by spaces\n",
    "names = [\"Maheep\", \"prakhar\", \"Aman\", \"Sanchit\"]\n",
    "result = ' '.join(names)\n",
    "print(result)\n"
   ]
  },
  {
   "cell_type": "code",
   "execution_count": null,
   "id": "db3273cf",
   "metadata": {},
   "outputs": [],
   "source": []
  }
 ],
 "metadata": {
  "kernelspec": {
   "display_name": "Python 3 (ipykernel)",
   "language": "python",
   "name": "python3"
  },
  "language_info": {
   "codemirror_mode": {
    "name": "ipython",
    "version": 3
   },
   "file_extension": ".py",
   "mimetype": "text/x-python",
   "name": "python",
   "nbconvert_exporter": "python",
   "pygments_lexer": "ipython3",
   "version": "3.11.4"
  }
 },
 "nbformat": 4,
 "nbformat_minor": 5
}
